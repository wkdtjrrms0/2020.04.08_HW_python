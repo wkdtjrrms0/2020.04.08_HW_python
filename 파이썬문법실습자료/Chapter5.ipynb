{
 "cells": [
  {
   "cell_type": "code",
   "execution_count": 2,
   "metadata": {},
   "outputs": [
    {
     "name": "stdout",
     "output_type": "stream",
     "text": [
      "20살 이상\n"
     ]
    }
   ],
   "source": [
    "#1번\n",
    "age = 20\n",
    "if age < 20:\n",
    "    print(\"20살 미만\")\n",
    "else:\n",
    "    print(\"20살 이상\")"
   ]
  },
  {
   "cell_type": "code",
   "execution_count": 9,
   "metadata": {},
   "outputs": [
    {
     "name": "stdout",
     "output_type": "stream",
     "text": [
      "30살 이상 50살 이하가 아닙니다.\n"
     ]
    }
   ],
   "source": [
    "#2번\n",
    "age = 20\n",
    "if (age >= 30) and (age <= 50):\n",
    "    print(\"30살 이상 50살 이하입니다.\")\n",
    "else:\n",
    "    print(\"30살 이상 50살 이하가 아닙니다.\")"
   ]
  },
  {
   "cell_type": "code",
   "execution_count": 14,
   "metadata": {},
   "outputs": [
    {
     "name": "stdout",
     "output_type": "stream",
     "text": [
      "현재 온도를 입력하시오:10\n",
      "긴바지를 입으세요\n"
     ]
    }
   ],
   "source": [
    "#3번\n",
    "temp = int(input(\"현재 온도를 입력하시오:\"))\n",
    "if temp >= 25:\n",
    "    print(\"반바지를 입으세요\")\n",
    "else:\n",
    "    print(\"긴바지를 입으세요\")"
   ]
  },
  {
   "cell_type": "code",
   "execution_count": 19,
   "metadata": {},
   "outputs": [
    {
     "name": "stdout",
     "output_type": "stream",
     "text": [
      "성적을 입력하세요:79\n",
      "C학점 입니다.\n"
     ]
    }
   ],
   "source": [
    "#4번\n",
    "score = int(input(\"성적을 입력하세요:\"))\n",
    "if score >= 90:\n",
    "    print(\"A학점 입니다.\")\n",
    "elif score >= 80:\n",
    "    print(\"B학점 입니다.\")\n",
    "elif score >= 70:\n",
    "    print(\"C학점 입니다.\")\n",
    "elif score >= 60:\n",
    "    print(\"D학점 입니다.\")\n",
    "else:\n",
    "    print(\"F학점 입니다.\")"
   ]
  },
  {
   "cell_type": "code",
   "execution_count": 22,
   "metadata": {},
   "outputs": [
    {
     "name": "stdout",
     "output_type": "stream",
     "text": [
      "24 - 82 =-58\n",
      "맞았습니다.\n"
     ]
    }
   ],
   "source": [
    "#5번\n",
    "import random\n",
    "num1 = random.randint(1, 100)\n",
    "num2 = random.randint(1, 100)\n",
    "\n",
    "ans = int(input(\"%d - %d =\" %(num1, num2)))\n",
    "if ans == num1 - num2:\n",
    "    print(\"맞았습니다.\")\n",
    "else:\n",
    "    print(\"틀렸습니다.\")"
   ]
  },
  {
   "cell_type": "code",
   "execution_count": 27,
   "metadata": {},
   "outputs": [
    {
     "name": "stdout",
     "output_type": "stream",
     "text": [
      "정수를 입력하시오:12\n",
      "2와 3으로 나누어 떨어집니다.\n"
     ]
    }
   ],
   "source": [
    "#6번\n",
    "Num = int(input(\"정수를 입력하시오:\"))\n",
    "if Num % 2 == 0 and Num % 3 == 0:\n",
    "    print(\"2와 3으로 나누어 떨어집니다.\")\n",
    "else:\n",
    "    print(\"2와 3으로 나누어 떨어지지 않습니다.\")"
   ]
  },
  {
   "cell_type": "code",
   "execution_count": 45,
   "metadata": {},
   "outputs": [
    {
     "name": "stdout",
     "output_type": "stream",
     "text": [
      "복권번호를 입력하시요(0에서 99사이):0\n",
      "당첨번호는 20입니다.\n",
      "상금은 50만원입니다.\n"
     ]
    }
   ],
   "source": [
    "#7번\n",
    "import random\n",
    "user_num = int(input(\"복권번호를 입력하시요(0에서 99사이):\"))\n",
    "lotto_num = random.randint(0, 99)\n",
    "print(\"당첨번호는 %d입니다.\"%lotto_num)\n",
    "\n",
    "user_num10 = user_num // 10\n",
    "user_num1 = user_num % 10\n",
    "lotto_num10 = lotto_num //10\n",
    "lotto_num1 = lotto_num % 10\n",
    "\n",
    "if (user_num10 == lotto_num10) and (user_num1 == lotto_num1):\n",
    "    print(\"상금은 100만원입니다.\")\n",
    "elif (user_num10 == lotto_num10) or (user_num1 == lotto_num1):\n",
    "    print(\"상금은 50만원입니다.\")\n",
    "else:\n",
    "    print(\"상금은 없습니다.\")\n",
    "    "
   ]
  }
 ],
 "metadata": {
  "kernelspec": {
   "display_name": "Python 3",
   "language": "python",
   "name": "python3"
  },
  "language_info": {
   "codemirror_mode": {
    "name": "ipython",
    "version": 3
   },
   "file_extension": ".py",
   "mimetype": "text/x-python",
   "name": "python",
   "nbconvert_exporter": "python",
   "pygments_lexer": "ipython3",
   "version": "3.7.6"
  }
 },
 "nbformat": 4,
 "nbformat_minor": 4
}
