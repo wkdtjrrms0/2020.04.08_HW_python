{
 "cells": [
  {
   "cell_type": "code",
   "execution_count": 8,
   "metadata": {},
   "outputs": [
    {
     "name": "stdout",
     "output_type": "stream",
     "text": [
      "반지름:100 원의 면적:31415.926535897932 원의 둘레:628.3185307179587\n"
     ]
    }
   ],
   "source": [
    "#1번\n",
    "import math\n",
    "PI = math.pi\n",
    "class Circle:\n",
    "    def __init__ (self, radius):\n",
    "        self.radius = radius\n",
    "    def calcPerimeter(self):\n",
    "        self.Perimeter = 2 * PI * self.radius\n",
    "    def calcArea(self):\n",
    "        self.Area = PI * self.radius ** 2\n",
    "    def __str__ (self):\n",
    "        msg = \"반지름:\" + str(self.radius) + \" 원의 면적:\" + str(self.Area) + \" 원의 둘레:\" + str(self.Perimeter)\n",
    "        return msg\n",
    "    \n",
    "myCircle = Circle(100)\n",
    "myCircle.calcPerimeter()\n",
    "myCircle.calcArea()\n",
    "print(myCircle)"
   ]
  },
  {
   "cell_type": "code",
   "execution_count": 18,
   "metadata": {},
   "outputs": [
    {
     "name": "stdout",
     "output_type": "stream",
     "text": [
      "TV의 채널:5 TV의 음량:6 TV전원:on\n"
     ]
    }
   ],
   "source": [
    "#2번\n",
    "class TV:\n",
    "    def __init__ (self, channel, volume, turn):\n",
    "        self.channel = channel\n",
    "        self.volume = volume\n",
    "        self.turn = turn\n",
    "    def turnOn(self):\n",
    "        self.turn = self.turn\n",
    "        self.To_channel = self.channel\n",
    "        self.To_volume = self.volume\n",
    "        \n",
    "    def turnOff(self):\n",
    "        self.turn = self.turn\n",
    "        self.To_channel = self.turn\n",
    "        self.To_volume = self.turn\n",
    "\n",
    "    def __str__ (self):\n",
    "        msg = \"TV의 채널:\" + str(self.To_channel) + \" TV의 음량:\" + str(self.To_volume) + \" TV전원:\" + self.turn\n",
    "        return msg\n",
    "HomeTV = TV(5, 6, \"on\")\n",
    "HomeTV.turnOn()\n",
    "print(HomeTV)"
   ]
  }
 ],
 "metadata": {
  "kernelspec": {
   "display_name": "Python 3",
   "language": "python",
   "name": "python3"
  },
  "language_info": {
   "codemirror_mode": {
    "name": "ipython",
    "version": 3
   },
   "file_extension": ".py",
   "mimetype": "text/x-python",
   "name": "python",
   "nbconvert_exporter": "python",
   "pygments_lexer": "ipython3",
   "version": "3.7.6"
  }
 },
 "nbformat": 4,
 "nbformat_minor": 4
}
