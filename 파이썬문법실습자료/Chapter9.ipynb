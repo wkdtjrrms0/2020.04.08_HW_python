{
 "cells": [
  {
   "cell_type": "code",
   "execution_count": 3,
   "metadata": {},
   "outputs": [
    {
     "name": "stdout",
     "output_type": "stream",
     "text": [
      "정수를 입력하시오:10\n",
      "정수를 입력하시오:20\n",
      "정수를 입력하시오:30\n",
      "정수를 입력하시오:40\n",
      "정수를 입력하시오:50\n",
      "평균 = 30.0\n"
     ]
    }
   ],
   "source": [
    "#1번\n",
    "num = []\n",
    "for i in range(5):\n",
    "    value = int(input(\"정수를 입력하시오:\"))\n",
    "    num.append(value)\n",
    "Total = 0\n",
    "for i in range(len(num)):\n",
    "    Total = Total + num[i]\n",
    "avg = Total / len(num)\n",
    "print(\"평균 =\",avg)"
   ]
  },
  {
   "cell_type": "code",
   "execution_count": 9,
   "metadata": {},
   "outputs": [
    {
     "name": "stdout",
     "output_type": "stream",
     "text": [
      "원하는 반복 횟수를 입력하시오:10000\n",
      "주사위가 1인 경우는 1651\n",
      "주사위가 2인 경우는 1715\n",
      "주사위가 3인 경우는 1634\n",
      "주사위가 4인 경우는 1651\n",
      "주사위가 5인 경우는 1650\n",
      "주사위가 6인 경우는 1699\n"
     ]
    }
   ],
   "source": [
    "#2번\n",
    "import random\n",
    "Dice = [0, 0, 0, 0, 0, 0]\n",
    "repeat = int(input(\"원하는 반복 횟수를 입력하시오:\"))\n",
    "for i in range(repeat):\n",
    "    value = random.randint(0, 5)\n",
    "    Dice[value] = Dice[value] + 1\n",
    "for i in range(6):\n",
    "    print(\"주사위가 %d인 경우는 %d\"%(i + 1, Dice[i]))"
   ]
  },
  {
   "cell_type": "code",
   "execution_count": 6,
   "metadata": {},
   "outputs": [
    {
     "name": "stdout",
     "output_type": "stream",
     "text": [
      "(입력모드)이름을 입력하시오:('끝'을 입력하시면 프로그램이 종료됩니다.)장석근\n",
      "전화번호를 입력하시오:010-2603-3040\n",
      "(입력모드)이름을 입력하시오:('끝'을 입력하시면 프로그램이 종료됩니다.)장윤희\n",
      "전화번호를 입력하시오:010-8257-3040\n",
      "(입력모드)이름을 입력하시오:('끝'을 입력하시면 프로그램이 종료됩니다.)장만수\n",
      "전화번호를 입력하시오:010-4629-3040\n",
      "(입력모드)이름을 입력하시오:('끝'을 입력하시면 프로그램이 종료됩니다.)홍은미\n",
      "전화번호를 입력하시오:\n",
      "(입력모드)이름을 입력하시오:('끝'을 입력하시면 프로그램이 종료됩니다.)홍은미\n",
      "전화번호를 입력하시오:010-4432-9946\n",
      "(입력모드)이름을 입력하시오:('끝'을 입력하시면 프로그램이 종료됩니다.)\n",
      "(검색모드)이름을 입력하시오:('끝'을 입력하시면 프로그램이 종료됩니다.)장석근\n",
      "장석근의 전화번호는 010-2603-3040입니다.\n",
      "(검색모드)이름을 입력하시오:('끝'을 입력하시면 프로그램이 종료됩니다.)장윤희\n",
      "장윤희의 전화번호는 010-8257-3040입니다.\n",
      "(검색모드)이름을 입력하시오:('끝'을 입력하시면 프로그램이 종료됩니다.)장만수\n",
      "장만수의 전화번호는 010-4629-3040입니다.\n",
      "(검색모드)이름을 입력하시오:('끝'을 입력하시면 프로그램이 종료됩니다.)홍은미\n",
      "홍은미의 전화번호는 010-4432-9946입니다.\n",
      "(검색모드)이름을 입력하시오:('끝'을 입력하시면 프로그램이 종료됩니다.)끝\n"
     ]
    },
    {
     "ename": "SystemExit",
     "evalue": "",
     "output_type": "error",
     "traceback": [
      "An exception has occurred, use %tb to see the full traceback.\n",
      "\u001b[1;31mSystemExit\u001b[0m\n"
     ]
    }
   ],
   "source": [
    "#3번\n",
    "import sys\n",
    "\n",
    "Call_Book = {}\n",
    "def SaveMode():\n",
    "    while True:\n",
    "        name = input(\"(입력모드)이름을 입력하시오:('끝'을 입력하시면 프로그램이 종료됩니다.)\")\n",
    "        if name == \"\":\n",
    "            break\n",
    "        elif name == \"끝\":\n",
    "            sys.exit()\n",
    "        number = input(\"전화번호를 입력하시오:\")\n",
    "        Call_Book[name] = number\n",
    "    FindMode()\n",
    "    \n",
    "def FindMode():\n",
    "    while True:\n",
    "        name = input(\"(검색모드)이름을 입력하시오:('끝'을 입력하시면 프로그램이 종료됩니다.)\")\n",
    "        if name == \"\":\n",
    "            break\n",
    "        elif name == \"끝\":\n",
    "            sys.exit()\n",
    "        print(\"%s의 전화번호는 %s입니다.\"%(name, Call_Book[name]))\n",
    "    SaveMode()\n",
    "    \n",
    "SaveMode()\n"
   ]
  },
  {
   "cell_type": "code",
   "execution_count": 8,
   "metadata": {},
   "outputs": [
    {
     "name": "stdout",
     "output_type": "stream",
     "text": [
      "저장할 국가의 갯수를 입력하시오8\n",
      "국가 인터넷 도메인의 약자를 입력하시오:kr\n",
      "해당 국가명을 입력하시오:대한민국\n",
      "국가 인터넷 도메인의 약자를 입력하시오:a\n",
      "해당 국가명을 입력하시오:아\n",
      "국가 인터넷 도메인의 약자를 입력하시오:b\n",
      "해당 국가명을 입력하시오:비\n",
      "국가 인터넷 도메인의 약자를 입력하시오:c\n",
      "해당 국가명을 입력하시오:디\n",
      "국가 인터넷 도메인의 약자를 입력하시오:d\n",
      "해당 국가명을 입력하시오:디\n",
      "국가 인터넷 도메인의 약자를 입력하시오:e\n",
      "해당 국가명을 입력하시오:이\n",
      "국가 인터넷 도메인의 약자를 입력하시오:f\n",
      "해당 국가명을 입력하시오:에프\n",
      "국가 인터넷 도메인의 약자를 입력하시오:g\n",
      "해당 국가명을 입력하시오:쥐\n",
      "a 아\n",
      "b 비\n",
      "c 디\n",
      "d 디\n",
      "e 이\n",
      "f 에프\n",
      "g 쥐\n",
      "kr 대한민국\n"
     ]
    }
   ],
   "source": [
    "#7번\n",
    "n = int(input(\"저장할 국가의 갯수를 입력하시오\"))\n",
    "Dic = {}\n",
    "for i in range(n):\n",
    "    Domain_nation = input(\"국가 인터넷 도메인의 약자를 입력하시오:\")\n",
    "    nation = input(\"해당 국가명을 입력하시오:\")\n",
    "    Dic[Domain_nation] = nation\n",
    "for key in sorted(Dic.keys()):\n",
    "    print(key, Dic[key])"
   ]
  },
  {
   "cell_type": "code",
   "execution_count": 1,
   "metadata": {},
   "outputs": [
    {
     "name": "stdout",
     "output_type": "stream",
     "text": [
      "다음은 어떤 단어에 대한 설명일까요?\n",
      "최근에 가장 떠오르는 프로그래밍 언어\n",
      "(1)파이썬 (2)함수 (3)리스트 (4)변수파이썬\n",
      "정답입니다.\n",
      "\n",
      "다음은 어떤 단어에 대한 설명일까요?\n",
      "데이터를 저장하는 메모리 공간\n",
      "(1)파이썬 (2)함수 (3)리스트 (4)변수변수\n",
      "정답입니다.\n",
      "\n",
      "다음은 어떤 단어에 대한 설명일까요?\n",
      "작업을 수행하는 문장들의 집합에 이름을 붙인것\n",
      "(1)파이썬 (2)함수 (3)리스트 (4)변수파이썬\n",
      "오답입니다. 정답은 함수입니다.\n",
      "\n",
      "다음은 어떤 단어에 대한 설명일까요?\n",
      "서로 관련이 없는 항목들의 모임\n",
      "(1)파이썬 (2)함수 (3)리스트 (4)변수리스트\n",
      "정답입니다.\n",
      "\n"
     ]
    }
   ],
   "source": [
    "#8번\n",
    "problems = {'파이썬': '최근에 가장 떠오르는 프로그래밍 언어', '변수': '데이터를 저장하는 메모리 공간', '함수': '작업을 수행하는 문장들의 집합에 이름을 붙인것', '리스트': '서로 관련이 없는 항목들의 모임'}\n",
    "for word in problems.keys():\n",
    "    print(\"다음은 어떤 단어에 대한 설명일까요?\")\n",
    "    print(problems[word])\n",
    "    ans = input(\"(1)파이썬 (2)함수 (3)리스트 (4)변수\")\n",
    "    if ans == word:\n",
    "        print(\"정답입니다.\\n\")\n",
    "    elif ans != word:\n",
    "        print(\"오답입니다. 정답은 %s입니다.\\n\" %word)"
   ]
  },
  {
   "cell_type": "code",
   "execution_count": null,
   "metadata": {},
   "outputs": [],
   "source": []
  }
 ],
 "metadata": {
  "kernelspec": {
   "display_name": "Python 3",
   "language": "python",
   "name": "python3"
  },
  "language_info": {
   "codemirror_mode": {
    "name": "ipython",
    "version": 3
   },
   "file_extension": ".py",
   "mimetype": "text/x-python",
   "name": "python",
   "nbconvert_exporter": "python",
   "pygments_lexer": "ipython3",
   "version": "3.7.6"
  }
 },
 "nbformat": 4,
 "nbformat_minor": 4
}
