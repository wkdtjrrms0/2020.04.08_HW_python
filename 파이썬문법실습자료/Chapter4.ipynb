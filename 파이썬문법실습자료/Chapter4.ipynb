{
 "cells": [
  {
   "cell_type": "code",
   "execution_count": 2,
   "metadata": {},
   "outputs": [
    {
     "name": "stdout",
     "output_type": "stream",
     "text": [
      "나는 12개의 사과를 먹었다.\n"
     ]
    }
   ],
   "source": [
    "#1번\n",
    "print('나는 ' + str(12) + '개의 사과를 먹었다.')"
   ]
  },
  {
   "cell_type": "code",
   "execution_count": 3,
   "metadata": {},
   "outputs": [
    {
     "name": "stdout",
     "output_type": "stream",
     "text": [
      "applegrape\n",
      "appleappleapple\n"
     ]
    }
   ],
   "source": [
    "#2번\n",
    "print('apple' + 'grape')\n",
    "print('apple' *3)"
   ]
  },
  {
   "cell_type": "code",
   "execution_count": 9,
   "metadata": {},
   "outputs": [
    {
     "name": "stdout",
     "output_type": "stream",
     "text": [
      "문자열을 입력하시오:python\n",
      "pyon\n"
     ]
    }
   ],
   "source": [
    "#3번\n",
    "list = input(\"문자열을 입력하시오:\")\n",
    "list1 = list[:2]\n",
    "list2 = list[-2:]\n",
    "print(list1 + list2)\n"
   ]
  },
  {
   "cell_type": "code",
   "execution_count": 7,
   "metadata": {},
   "outputs": [
    {
     "name": "stdout",
     "output_type": "stream",
     "text": [
      "문자열을 입력하시오:청소\n",
      "청소하는 중\n"
     ]
    }
   ],
   "source": [
    "#4번\n",
    "do = input(\"문자열을 입력하시오:\")\n",
    "doing = do + \"하는 중\"\n",
    "print(doing)"
   ]
  },
  {
   "cell_type": "code",
   "execution_count": 11,
   "metadata": {
    "scrolled": true
   },
   "outputs": [
    {
     "name": "stdout",
     "output_type": "stream",
     "text": [
      "기호를 입력하시오:[]\n",
      "중간에 삽입할 문자열을 입력하시오:python\n",
      "[python]\n"
     ]
    }
   ],
   "source": [
    "#5번\n",
    "base = input(\"기호를 입력하시오:\")\n",
    "middle = input(\"중간에 삽입할 문자열을 입력하시오:\")\n",
    "ans = base[:1] + middle + base[-1:]\n",
    "print(ans)"
   ]
  },
  {
   "cell_type": "code",
   "execution_count": 19,
   "metadata": {},
   "outputs": [
    {
     "name": "stdout",
     "output_type": "stream",
     "text": [
      "리스트 = [1, 2, 3, 4]\n",
      "리스트 숫자들의 합 = 10\n"
     ]
    }
   ],
   "source": [
    "#6번\n",
    "list = [1, 2, 3, 4]\n",
    "print(\"리스트 =\", list)\n",
    "add = list[0] + list[1] + list[2] + list[3]\n",
    "print(\"리스트 숫자들의 합 =\", add)"
   ]
  }
 ],
 "metadata": {
  "kernelspec": {
   "display_name": "Python 3",
   "language": "python",
   "name": "python3"
  },
  "language_info": {
   "codemirror_mode": {
    "name": "ipython",
    "version": 3
   },
   "file_extension": ".py",
   "mimetype": "text/x-python",
   "name": "python",
   "nbconvert_exporter": "python",
   "pygments_lexer": "ipython3",
   "version": "3.7.6"
  }
 },
 "nbformat": 4,
 "nbformat_minor": 4
}
