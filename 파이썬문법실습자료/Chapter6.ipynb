{
 "cells": [
  {
   "cell_type": "code",
   "execution_count": 2,
   "metadata": {},
   "outputs": [
    {
     "name": "stdout",
     "output_type": "stream",
     "text": [
      "10 9 8 7 6 5 4 3 2 "
     ]
    }
   ],
   "source": [
    "# 6-7\n",
    "for i in range(10, 1, -1):\n",
    "    print(i, end = \" \")"
   ]
  },
  {
   "cell_type": "code",
   "execution_count": 3,
   "metadata": {},
   "outputs": [
    {
     "name": "stdout",
     "output_type": "stream",
     "text": [
      "정수를 입력하시오:5\n",
      "5!은 120입니다.\n"
     ]
    }
   ],
   "source": [
    "# lab(팩토리얼 계산)\n",
    "\n",
    "def facto(n):\n",
    "    facto = 1\n",
    "    for i in range(1, n+1):\n",
    "        facto = i * facto\n",
    "    return facto\n",
    "\n",
    "n = int(input(\"정수를 입력하시오:\"))\n",
    "print(\"%d!은 %d입니다.\"%(n, facto(n)))"
   ]
  },
  {
   "cell_type": "code",
   "execution_count": 4,
   "metadata": {},
   "outputs": [
    {
     "name": "stdout",
     "output_type": "stream",
     "text": [
      "원하는 단은?5\n",
      "5 * 1 = 5\n",
      "5 * 2 = 10\n",
      "5 * 3 = 15\n",
      "5 * 4 = 20\n",
      "5 * 5 = 25\n",
      "5 * 6 = 30\n",
      "5 * 7 = 35\n",
      "5 * 8 = 40\n",
      "5 * 9 = 45\n"
     ]
    }
   ],
   "source": [
    "# lab(구구단 출력)\n",
    "def mul(n):\n",
    "    for i in range(1, 10):\n",
    "        if i == 9:\n",
    "            return print(\"%d * %d = %d\" %(n, i, n*i))\n",
    "        else:\n",
    "            print(\"%d * %d = %d\" %(n, i, n*i))\n",
    "x = int(input(\"원하는 단은?\"))\n",
    "mul(x)"
   ]
  },
  {
   "cell_type": "code",
   "execution_count": 5,
   "metadata": {},
   "outputs": [
    {
     "name": "stdout",
     "output_type": "stream",
     "text": [
      "숫자를 입력하시오:5\n",
      "계속?(yes/no):5\n",
      "합계는 : 5\n"
     ]
    }
   ],
   "source": [
    "#lab(입력 숫자 합 계산)\n",
    "\n",
    "Total = 0\n",
    "Count = 0\n",
    "Num_list = []\n",
    "Num = int(input(\"숫자를 입력하시오:\"))\n",
    "Num_list.append(Num)\n",
    "ans = input(\"계속?(yes/no):\")\n",
    "while ans == \"yes\":\n",
    "    Count +=1\n",
    "    Num = int(input(\"숫자를 입력하시오:\"))\n",
    "    Num_list.append(Num)\n",
    "    ans = input(\"계속?(yes/no):\")\n",
    "for k in range(Count+1):\n",
    "    Total = Total + Num_list[k]\n",
    "print(\"합계는 : %d\" %Total)"
   ]
  },
  {
   "cell_type": "code",
   "execution_count": 6,
   "metadata": {},
   "outputs": [
    {
     "name": "stdout",
     "output_type": "stream",
     "text": [
      "1부터 100사이의 숫자를 맞추시오\n",
      "숫자를 입력하시오: 5\n",
      "낮음!\n",
      "숫자를 입력하시오: 1\n",
      "축하합니다. 정답입니다. 시도회수 = 2\n"
     ]
    }
   ],
   "source": [
    "#lab(숫자 맞추기 게임)\n",
    "import random\n",
    "print(\"1부터 100사이의 숫자를 맞추시오\")\n",
    "Num = random.randint(1, 100)\n",
    "count = 0\n",
    "User_Num = 0\n",
    "while Num != User_Num:\n",
    "    User_Num = int(input(\"숫자를 입력하시오: \"))\n",
    "    count += 1\n",
    "    if User_Num < Num:\n",
    "        print(\"높음!\")\n",
    "    elif User_Num > Num:\n",
    "        print(\"낮음!\")\n",
    "    else:\n",
    "        print(\"축하합니다. 정답입니다. 시도회수 = %d\" %count)"
   ]
  },
  {
   "cell_type": "code",
   "execution_count": 7,
   "metadata": {},
   "outputs": [
    {
     "name": "stdout",
     "output_type": "stream",
     "text": [
      "1부터 100사이의 숫자를 맞추시오(최대 시도회수는 10회 입니다.)\n",
      "숫자를 입력하시오: 15\n",
      "높음!\n",
      "숫자를 입력하시오: 66\n",
      "높음!\n",
      "숫자를 입력하시오: 80\n",
      "높음!\n",
      "숫자를 입력하시오: 99\n",
      "낮음!\n",
      "숫자를 입력하시오: 89\n",
      "높음!\n",
      "숫자를 입력하시오: 95\n",
      "낮음!\n",
      "숫자를 입력하시오: 92\n",
      "높음!\n",
      "숫자를 입력하시오: 9\n",
      "높음!\n",
      "숫자를 입력하시오: 94\n",
      "축하합니다. 정답입니다. 시도회수 = 9\n"
     ]
    }
   ],
   "source": [
    "#lab(숫자 맞추기 게임)_advanced\n",
    "import random\n",
    "print(\"1부터 100사이의 숫자를 맞추시오(최대 시도회수는 10회 입니다.)\")\n",
    "Num = random.randint(1, 100)\n",
    "count = 0\n",
    "while count <= 9:\n",
    "    User_Num = int(input(\"숫자를 입력하시오: \"))\n",
    "    count += 1\n",
    "    if User_Num < Num:\n",
    "        print(\"높음!\")\n",
    "    elif User_Num > Num:\n",
    "        print(\"낮음!\")\n",
    "    else:\n",
    "        break\n",
    "\n",
    "if count < 10:\n",
    "    print(\"축하합니다. 정답입니다. 시도회수 = %d\" %count)\n",
    "else:\n",
    "    print(\"실패입니다. 정답은 %d입니다. 시도회수 = %d\" %(Num, count))"
   ]
  },
  {
   "cell_type": "code",
   "execution_count": 2,
   "metadata": {},
   "outputs": [
    {
     "name": "stdout",
     "output_type": "stream",
     "text": [
      "(종료를 원하면 엔터를 누루시오)\n",
      "Q1. 59 + 98 =157\n",
      "잘했어요!!\n",
      "(종료를 원하면 엔터를 누루시오)\n",
      "Q2. 39 + 42 =81\n",
      "잘했어요!!\n",
      "(종료를 원하면 엔터를 누루시오)\n",
      "Q3. 82 + 16 =5\n",
      "안타깝네요. 답은 98에요\n",
      "(종료를 원하면 엔터를 누루시오)\n",
      "Q4. 90 + 32 =66\n",
      "안타깝네요. 답은 122에요\n",
      "(종료를 원하면 엔터를 누루시오)\n",
      "Q5. 21 + 31 =dd\n",
      "안타깝네요. 답은 52에요\n",
      "(종료를 원하면 엔터를 누루시오)\n",
      "Q6. 36 + 93 =\n",
      "프로그램이 종료되었습니다.\n",
      "정답 횟수 : 2, 오답 횟수 : 3\n"
     ]
    },
    {
     "ename": "SystemExit",
     "evalue": "",
     "output_type": "error",
     "traceback": [
      "An exception has occurred, use %tb to see the full traceback.\n",
      "\u001b[1;31mSystemExit\u001b[0m\n"
     ]
    }
   ],
   "source": [
    "#lab(산수 문제 발생기)\n",
    "import random\n",
    "import sys\n",
    "count = 1\n",
    "correct = 0\n",
    "wrong = 0\n",
    "while True:\n",
    "    Num1 = random.randint(1, 100)\n",
    "    Num2 = random.randint(1, 100)\n",
    "    User_Num = input(\"(종료를 원하면 엔터를 누루시오)\\nQ%d. %d + %d =\"%(count, Num1, Num2))\n",
    "    if User_Num == \"\":\n",
    "        print(\"프로그램이 종료되었습니다.\\n정답 횟수 : %d, 오답 횟수 : %d\"%(correct, wrong))\n",
    "        sys.exit()\n",
    "    count += 1\n",
    "    if (User_Num == str(Num1 + Num2)):\n",
    "        print(\"잘했어요!!\")\n",
    "        correct += 1\n",
    "    else:\n",
    "        print(\"안타깝네요. 답은 %d에요\" %(Num1+Num2))\n",
    "        wrong += 1"
   ]
  },
  {
   "cell_type": "code",
   "execution_count": 7,
   "metadata": {},
   "outputs": [
    {
     "name": "stdout",
     "output_type": "stream",
     "text": [
      "2 4 6 8 10 12 14 16 18 20 22 24 26 28 30 32 34 36 38 40 42 44 46 48 50 52 54 56 58 60 62 64 66 68 70 72 74 76 78 80 82 84 86 88 90 92 94 96 98 100 "
     ]
    }
   ],
   "source": [
    "#1번\n",
    "for i in range(1, 101):\n",
    "    if i % 2 == 0:\n",
    "        print(i, end= \" \")"
   ]
  },
  {
   "cell_type": "code",
   "execution_count": 8,
   "metadata": {},
   "outputs": [
    {
     "name": "stdout",
     "output_type": "stream",
     "text": [
      "11 년이 걸립니다.\n"
     ]
    }
   ],
   "source": [
    "#2번\n",
    "year = 0\n",
    "balance = 1000\n",
    "\n",
    "while balance < 2000:\n",
    "    year = year + 1\n",
    "    interest = balance * 0.07\n",
    "    balance = balance + interest\n",
    "print(year, \"년이 걸립니다.\")"
   ]
  },
  {
   "cell_type": "code",
   "execution_count": 9,
   "metadata": {},
   "outputs": [
    {
     "name": "stdout",
     "output_type": "stream",
     "text": [
      "10\n"
     ]
    }
   ],
   "source": [
    "#3번\n",
    "n = 1234\n",
    "sum = 0\n",
    "while n > 0:\n",
    "    digit = n % 10\n",
    "    sum = sum + digit\n",
    "    n = n // 10\n",
    "print(sum)"
   ]
  },
  {
   "cell_type": "code",
   "execution_count": 11,
   "metadata": {},
   "outputs": [
    {
     "name": "stdout",
     "output_type": "stream",
     "text": [
      "27 * 26는1\n",
      "27 * 26는2\n",
      "27 * 26는3\n",
      "27 * 26는702\n",
      "맞았습니다.\n"
     ]
    }
   ],
   "source": [
    "#4번\n",
    "import random\n",
    "Num1 = random.randint(1, 100)\n",
    "Num2 = random.randint(1, 100)\n",
    "ans = Num1 * Num2\n",
    "User_Num = 0\n",
    "while User_Num != ans:\n",
    "    User_Num = int(input(\"%d * %d는\" %(Num1, Num2)))\n",
    "    \n",
    "print(\"맞았습니다.\")"
   ]
  },
  {
   "cell_type": "code",
   "execution_count": 1,
   "metadata": {},
   "outputs": [
    {
     "name": "stdout",
     "output_type": "stream",
     "text": [
      "정수를 입력하시오:1\n",
      "정수를 입력하시오:2\n",
      "정수를 입력하시오:3\n",
      "정수를 입력하시오:0\n",
      "합은 6입니다.\n"
     ]
    }
   ],
   "source": [
    "#5번\n",
    "Total = 0\n",
    "while True:\n",
    "    a = int(input(\"정수를 입력하시오:\"))\n",
    "    Total = Total + a\n",
    "    if (a == 0):\n",
    "        print(\"합은 %d입니다.\" %Total)\n",
    "        break\n",
    "    "
   ]
  },
  {
   "cell_type": "code",
   "execution_count": 2,
   "metadata": {},
   "outputs": [
    {
     "name": "stdout",
     "output_type": "stream",
     "text": [
      "원하는 반복 횟수를 입력하시오:3\n",
      "첫번째 주사위= 1, 두번째 주사위= 3\n",
      "첫번째 주사위= 6, 두번째 주사위= 4\n",
      "첫번째 주사위= 2, 두번째 주사위= 4\n"
     ]
    }
   ],
   "source": [
    "#6번\n",
    "import random\n",
    "n = int(input(\"원하는 반복 횟수를 입력하시오:\"))\n",
    "for i in range(n):\n",
    "    num1 = random.randint(1, 6)\n",
    "    num2 = random.randint(1, 6)\n",
    "    print(\"첫번째 주사위= %d, 두번째 주사위= %d\"%(num1, num2))"
   ]
  },
  {
   "cell_type": "code",
   "execution_count": null,
   "metadata": {},
   "outputs": [],
   "source": []
  }
 ],
 "metadata": {
  "kernelspec": {
   "display_name": "Python 3",
   "language": "python",
   "name": "python3"
  },
  "language_info": {
   "codemirror_mode": {
    "name": "ipython",
    "version": 3
   },
   "file_extension": ".py",
   "mimetype": "text/x-python",
   "name": "python",
   "nbconvert_exporter": "python",
   "pygments_lexer": "ipython3",
   "version": "3.7.6"
  }
 },
 "nbformat": 4,
 "nbformat_minor": 4
}
