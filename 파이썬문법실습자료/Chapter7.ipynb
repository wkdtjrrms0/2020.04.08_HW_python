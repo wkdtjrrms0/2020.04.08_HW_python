{
 "cells": [
  {
   "cell_type": "code",
   "execution_count": 2,
   "metadata": {},
   "outputs": [
    {
     "name": "stdout",
     "output_type": "stream",
     "text": [
      "Happy Birthday to you!\n",
      "Happy Birthday to you!\n",
      "Happy Birthday, dear Tim\n",
      "Happy Birthday to you!\n"
     ]
    }
   ],
   "source": [
    "#5번\n",
    "def H_B_S(name):\n",
    "    print(\"Happy Birthday to you!\\nHappy Birthday to you!\\nHappy Birthday, dear %s\\nHappy Birthday to you!\" %name)\n",
    "H_B_S(\"Tim\")"
   ]
  },
  {
   "cell_type": "code",
   "execution_count": 3,
   "metadata": {},
   "outputs": [
    {
     "name": "stdout",
     "output_type": "stream",
     "text": [
      "첫 번째 정수:10\n",
      "두 번째 정수:20\n",
      "정수 10 + 20의 합은? 30 입니다.\n"
     ]
    }
   ],
   "source": [
    "#6번\n",
    "def f_sum(x, y):\n",
    "    return x+y\n",
    "num1 = int(input(\"첫 번째 정수:\"))\n",
    "num2 = int(input(\"두 번째 정수:\"))\n",
    "print(\"정수 %d + %d의 합은? %d 입니다.\" %(num1, num2, f_sum(num1, num2)))"
   ]
  },
  {
   "cell_type": "code",
   "execution_count": 15,
   "metadata": {},
   "outputs": [
    {
     "name": "stdout",
     "output_type": "stream",
     "text": [
      "정수형의 반지름을 입력하시오5\n",
      "반지름이 5인 원의 면적: 78.53981633974483\n",
      "반지름이 5인 원의 둘레: 31.41592653589793\n"
     ]
    }
   ],
   "source": [
    "#7번\n",
    "import math\n",
    "PI = math.pi\n",
    "def circleArea(r):\n",
    "    return PI*r**2\n",
    "def circleFerence(r):\n",
    "    return float(2*PI*r)\n",
    "radius = int(input(\"정수형의 반지름을 입력하시오\"))\n",
    "print(\"반지름이 %d인 원의 면적:\"%radius, circleArea(radius))\n",
    "print(\"반지름이 %d인 원의 둘레:\"%radius, circleFerence(radius))"
   ]
  },
  {
   "cell_type": "code",
   "execution_count": 20,
   "metadata": {},
   "outputs": [
    {
     "name": "stdout",
     "output_type": "stream",
     "text": [
      "첫 번째 정수를 입력하시오:5\n",
      "두 번째 정수를 입력하시오:3\n",
      "합: 8\n",
      "차: 2\n",
      "곱: 15\n",
      "나: 1.6666666666666667\n"
     ]
    }
   ],
   "source": [
    "#8번\n",
    "def add(x, y):\n",
    "    return x + y\n",
    "def sub(x, y):\n",
    "    return x - y\n",
    "def mul(x, y):\n",
    "    return x * y\n",
    "def div(x, y):\n",
    "    return x / y\n",
    "num1 = int(input(\"첫 번째 정수를 입력하시오:\"))\n",
    "num2 = int(input(\"두 번째 정수를 입력하시오:\"))\n",
    "print(\"합:\", add(num1, num2))\n",
    "print(\"차:\", sub(num1, num2))\n",
    "print(\"곱:\", mul(num1, num2))\n",
    "print(\"나:\", div(num1, num2))"
   ]
  },
  {
   "cell_type": "code",
   "execution_count": null,
   "metadata": {},
   "outputs": [],
   "source": []
  }
 ],
 "metadata": {
  "kernelspec": {
   "display_name": "Python 3",
   "language": "python",
   "name": "python3"
  },
  "language_info": {
   "codemirror_mode": {
    "name": "ipython",
    "version": 3
   },
   "file_extension": ".py",
   "mimetype": "text/x-python",
   "name": "python",
   "nbconvert_exporter": "python",
   "pygments_lexer": "ipython3",
   "version": "3.7.6"
  }
 },
 "nbformat": 4,
 "nbformat_minor": 4
}
