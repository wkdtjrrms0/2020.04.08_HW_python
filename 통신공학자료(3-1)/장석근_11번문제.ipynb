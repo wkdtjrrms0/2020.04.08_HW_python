{
 "cells": [
  {
   "cell_type": "code",
   "execution_count": 5,
   "metadata": {
    "scrolled": true
   },
   "outputs": [
    {
     "name": "stdout",
     "output_type": "stream",
     "text": [
      "Populating the interactive namespace from numpy and matplotlib\n",
      "[ 1  2  3  2  1  0 -1 -2 -3 -2 -1  0]\n"
     ]
    },
    {
     "data": {
      "text/plain": [
       "[<matplotlib.lines.Line2D at 0x1d1cdfbc588>]"
      ]
     },
     "execution_count": 5,
     "metadata": {},
     "output_type": "execute_result"
    },
    {
     "data": {
      "image/png": "[encoded data removed]",
      "text/plain": [
       "<Figure size 432x288 with 1 Axes>"
      ]
     },
     "metadata": {
      "needs_background": "light"
     },
     "output_type": "display_data"
    }
   ],
   "source": [
    "%pylab inline\n",
    "import math\n",
    "import scipy\n",
    "import scipy.signal as signal\n",
    "%config InlineBackend.figure_formats=['svg'] # SVG inline viewing\n",
    "\n",
    "a = np.array([1, 2, 3, 2, 1, 0, -1, -2, -3, -2, -1, 0])\n",
    "print(a)\n",
    "\n",
    "z = zeros((256, 80000),dtype=numpy.complex_)\n",
    "Zf = zeros((256, 80000),dtype=numpy.complex_)\n",
    "tmp = zeros(256,dtype=numpy.complex_)\n",
    "Tmp = zeros(256,dtype=numpy.complex_)\n",
    "Za = zeros((256, 80000))\n",
    "for j in range(80000):\n",
    "    for i in range(256):\n",
    "        tmp[i] = z[i][j]\n",
    "    Tmp = fft.fft(tmp) #256개의 데이터를 scipy.signal모듈을 이용해 fft를 취함.\n",
    "    for i in range(256):  #fft 취한것을 Zf변수에 저장, Zf의 값을 절대값 취한거 Za에 저장\n",
    "        Zf[i][j] = Tmp[i]\n",
    "        Za[i][j] = abs(Tmp[i])\n",
    "Tmp = zeros(256)\n",
    "j = 10000 #y축에서 10000번째 샘플을 구한다. 200근처의 신호가 센 것을 알 수 있다.\n",
    "for i in range(256):\n",
    "    Tmp[i] = real(Za[i][j])\n",
    "plot(Tmp)"
   ]
  }
 ],
 "metadata": {
  "kernelspec": {
   "display_name": "Python 3",
   "language": "python",
   "name": "python3"
  },
  "language_info": {
   "codemirror_mode": {
    "name": "ipython",
    "version": 3
   },
   "file_extension": ".py",
   "mimetype": "text/x-python",
   "name": "python",
   "nbconvert_exporter": "python",
   "pygments_lexer": "ipython3",
   "version": "3.7.6"
  }
 },
 "nbformat": 4,
 "nbformat_minor": 4
}
