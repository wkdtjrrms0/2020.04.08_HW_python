{
 "cells": [
  {
   "cell_type": "code",
   "execution_count": null,
   "metadata": {
    "scrolled": true
   },
   "outputs": [],
   "source": [
    "#chapter 11_3\n",
    "filename=input(\"입력 파일 이름: \") #파일 위치 입력받기\n",
    "infile=open(filename, \"r\") #파일 위치를 읽기모드로 열기\n",
    "d = dict() #딕셔너리를 사용하여 알파벳에 해당하는 값을 받는다.\n",
    "\n",
    "for line in infile: #텍스트파일을 문장단위로 읽어들인다.\n",
    "    for ch in line: #문장을 문자단위로 읽어들인다.\n",
    "        if (ch.isupper()): #문자가 소문자일경우 해당 키값을 증가시킨다.\n",
    "            if (ch in d):\n",
    "                d[ch] += 1\n",
    "            else:\n",
    "                d[ch] = 1   \n",
    "        if (ch.islower()): #문자가 대문자일경우 해당 키값을 증가시킨다.\n",
    "            if (ch in d):\n",
    "                d[ch] += 1\n",
    "            else:\n",
    "                d[ch] = 1\n",
    "print(d) #딕셔너리 내의 키와 값을 출력한다.\n",
    "infile.close() #파일을 닫는다."
   ]
  },
  {
   "cell_type": "code",
   "execution_count": null,
   "metadata": {},
   "outputs": [],
   "source": [
    "C:\\\\Users\\\\JSK\\\\Desktop\\\\HumptyDumpty.txt"
   ]
  },
  {
   "cell_type": "code",
   "execution_count": null,
   "metadata": {
    "scrolled": true
   },
   "outputs": [],
   "source": [
    "#chapter 11_5\n",
    "infilename=input(\"입력 파일 이름: \") #입력할 파일 위치 입력받기\n",
    "infile=open(infilename, \"r\") #파일 위치를 읽기모드로 열기\n",
    "outfilename=input(\"출력 파일 이름: \") #출력할 파일 위치 입력받기\n",
    "outfile=open(outfilename, \"w\") #파일 위치를 쓰기모드로 열기\n",
    "\n",
    "line=infile.readlines() #리스트형으로 반환하는 readlines를 사용하여 각 줄을 읽음.\n",
    "Total=0 #합계, 평균, 카운트값을 선언하고 0으로 초기화\n",
    "Average=0\n",
    "C=0\n",
    "\n",
    "for i in line: #줄의 개수만큼 반복시켜주며 토탈값을 더해주고 카운트값을 증가시킨다.\n",
    "    Total+=float(i)\n",
    "    C+=1\n",
    "Average=Total/C #평균은 토탈 나누기 카운트값\n",
    "\n",
    "outfile.write(\"합계=%.2f\\n\"%Total) #출력할 파일에 평균,합계를 저장해주고, 가독성을 위해%.2f를 사용하여 소수점 2자리까지 표시해준다. \n",
    "outfile.write(\"평균=%.2f\\n\"%Average)\n",
    "\n",
    "infile.close() #파일을 닫는다.\n",
    "outfile.close()"
   ]
  },
  {
   "cell_type": "code",
   "execution_count": null,
   "metadata": {},
   "outputs": [],
   "source": [
    "C:\\\\Users\\\\JSK\\\\Desktop\\\\numbers.txt\n",
    "C:\\\\Users\\\\JSK\\\\Desktop\\\\test.txt"
   ]
  },
  {
   "cell_type": "code",
   "execution_count": null,
   "metadata": {},
   "outputs": [],
   "source": [
    "#chapter 13_1\n",
    "import math #파이를 사용하기 위해 import math사용\n",
    "PI = math.pi #math.pi값을 가독성과 사용의 편의성을 위해 PI에 대입\n",
    "class Circle: #원을 나타내는 클라스 생성\n",
    "    def __init__(self, radius): #반지름을 생성자 안에서 정의하고 객체를 초기화\n",
    "        self.radius = radius\n",
    "        \n",
    "    def calcPerimeter(self): #원의 둘레를 구하는 함수 추가한다.\n",
    "        self.Perimeter = 2*PI*self.radius\n",
    "    \n",
    "    def calcArea(self): #원의 면적을 구하는 함수 추가한다.\n",
    "        self.Area = PI*self.radius**2\n",
    "        \n",
    "    def __str__(self): #객체안의 정보를 출력하기위해 str메소드 사용\n",
    "        msg = \"반지름:\"+ str(self.radius)+ \"   원의 면적:\"+ str(self.Area)+ \"   원의 둘레:\"+ str(self.Perimeter)\n",
    "        return msg\n",
    "\n",
    "myCircle = Circle(100) #테스트\n",
    "myCircle.calcPerimeter()\n",
    "myCircle.calcArea()\n",
    "print(myCircle)"
   ]
  },
  {
   "cell_type": "code",
   "execution_count": null,
   "metadata": {},
   "outputs": [],
   "source": [
    "#chapter 13_4\n",
    "from turtle import * #터틀 모듈에서 모든것을 불러온다.\n",
    "\n",
    "class MyTurtle(Turtle): #Turtle이라는 클라스를 상속받아서 MyTurtle 클래스를 만든다.\n",
    "    def drawSquare(self): #사각형을 그리는 함수를 추가한다.\n",
    "        for i in range(4):\n",
    "            self.right(90)\n",
    "            self.forward(100)\n",
    "\n",
    "my_turtle=MyTurtle() #테스트\n",
    "my_turtle.forward(100)\n",
    "my_turtle.drawSquare()"
   ]
  }
 ],
 "metadata": {
  "kernelspec": {
   "display_name": "Python 3",
   "language": "python",
   "name": "python3"
  },
  "language_info": {
   "codemirror_mode": {
    "name": "ipython",
    "version": 3
   },
   "file_extension": ".py",
   "mimetype": "text/x-python",
   "name": "python",
   "nbconvert_exporter": "python",
   "pygments_lexer": "ipython3",
   "version": "3.7.6"
  }
 },
 "nbformat": 4,
 "nbformat_minor": 4
}
