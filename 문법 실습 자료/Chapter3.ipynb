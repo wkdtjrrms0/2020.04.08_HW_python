{
 "cells": [
  {
   "cell_type": "code",
   "execution_count": null,
   "metadata": {},
   "outputs": [],
   "source": [
    "#도전 자판기\n",
    "Insert_Money = int(input(\"투입한 돈:\"))\n",
    "Price = int(input(\"물건 값:\"))\n",
    "Remain = Insert_Money - Price\n",
    "print(\"거스름돈: %d\" %Remain)\n",
    "Coin500 = Remain//500\n",
    "Coin100 = (Remain % 500) // 100\n",
    "print(\"500원 동전의 개수: %d\" %Coin500)\n",
    "print(\"100원 동전의 개수: %d\" %Coin100)"
   ]
  },
  {
   "cell_type": "code",
   "execution_count": null,
   "metadata": {},
   "outputs": [],
   "source": [
    "#1번\n",
    "X = int(input(\"x:\"))\n",
    "Y = int(input(\"y:\"))\n",
    "\n",
    "print(\"두수의 합:\", X + Y)\n",
    "print(\"두수의 차:\", X - Y)\n",
    "print(\"두수의 곱:\", X * Y)\n",
    "print(\"두수의 평균:\", (X + Y) / 2)\n",
    "print(\"큰수:\", max(X, Y))\n",
    "print(\"작은수:\", min(X, Y))"
   ]
  },
  {
   "cell_type": "code",
   "execution_count": null,
   "metadata": {},
   "outputs": [],
   "source": [
    "#2번\n",
    "import math\n",
    "r = int(input(\"r:\"))\n",
    "h = int(input(\"h:\"))\n",
    "Pi = math.pi\n",
    "print(\"원기둥의 부피: %.2f\" %(Pi*r**2*h))"
   ]
  },
  {
   "cell_type": "code",
   "execution_count": 4,
   "metadata": {},
   "outputs": [
    {
     "name": "stdout",
     "output_type": "stream",
     "text": [
      "정수를 입력하시오:1234\n",
      "자리수의 합: 10\n"
     ]
    }
   ],
   "source": [
    "#3번\n",
    "X = int(input(\"정수를 입력하시오:\"))\n",
    "Num1000 = X // 1000\n",
    "Num100 = (X % 1000) // 100\n",
    "Num10 = (X % 100) // 10\n",
    "Num1 = (X % 10) // 1\n",
    "print(\"자리수의 합:\", Num1000 + Num100 + Num10 + Num1)"
   ]
  },
  {
   "cell_type": "code",
   "execution_count": 5,
   "metadata": {},
   "outputs": [
    {
     "name": "stdout",
     "output_type": "stream",
     "text": [
      "x1:0\n",
      "y1:0\n",
      "x2:100\n",
      "y2:100\n",
      "두점 사이의 거리= 141.4213562373095\n"
     ]
    }
   ],
   "source": [
    "#4번\n",
    "x1 = int(input(\"x1:\"))\n",
    "y1 = int(input(\"y1:\"))\n",
    "x2 = int(input(\"x2:\"))\n",
    "y2 = int(input(\"y2:\"))\n",
    "\n",
    "dis = ((x1 - x2)**2 + (y1 - y2)**2)**0.5\n",
    "print(\"두점 사이의 거리=\", dis)"
   ]
  },
  {
   "cell_type": "code",
   "execution_count": 26,
   "metadata": {},
   "outputs": [
    {
     "name": "stdout",
     "output_type": "stream",
     "text": [
      "현재 시간(영국 그리니치 시각): 7시 12분\n"
     ]
    }
   ],
   "source": [
    "#7번\n",
    "import time\n",
    "Total_sec = time.time()\n",
    "Total_min = Total_sec / 60\n",
    "Now_min = int(Total_min % 60)\n",
    "Total_hour = Total_min / 60\n",
    "Now_hour = int(Total_hour % 24)\n",
    "print(\"현재 시간(영국 그리니치 시각): %d시 %d분\" %(Now_hour, Now_min))"
   ]
  },
  {
   "cell_type": "code",
   "execution_count": 27,
   "metadata": {},
   "outputs": [
    {
     "name": "stdout",
     "output_type": "stream",
     "text": [
      "물체의 무게를 입력하시오(킬로그램):10\n",
      "물체의 속도를 입력하시오(미터/초):100\n",
      "물체는 50000.0(줄)의 에너지를 가지고 있다\n"
     ]
    }
   ],
   "source": [
    "#8번\n",
    "m = int(input(\"물체의 무게를 입력하시오(킬로그램):\"))\n",
    "v = int(input(\"물체의 속도를 입력하시오(미터/초):\"))\n",
    "E = 0.5 * m * v **2\n",
    "print(\"물체는 %.1f(줄)의 에너지를 가지고 있다\" %E)"
   ]
  },
  {
   "cell_type": "code",
   "execution_count": null,
   "metadata": {},
   "outputs": [],
   "source": []
  }
 ],
 "metadata": {
  "kernelspec": {
   "display_name": "Python 3",
   "language": "python",
   "name": "python3"
  },
  "language_info": {
   "codemirror_mode": {
    "name": "ipython",
    "version": 3
   },
   "file_extension": ".py",
   "mimetype": "text/x-python",
   "name": "python",
   "nbconvert_exporter": "python",
   "pygments_lexer": "ipython3",
   "version": "3.7.6"
  }
 },
 "nbformat": 4,
 "nbformat_minor": 4
}
