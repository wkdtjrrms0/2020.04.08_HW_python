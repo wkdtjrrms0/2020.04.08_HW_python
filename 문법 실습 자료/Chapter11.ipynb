{
 "cells": [
  {
   "cell_type": "code",
   "execution_count": 7,
   "metadata": {},
   "outputs": [],
   "source": [
    "fp = open(\"practice.txt\",\"w\")\n",
    "fp.write(\"444444444444dddddddddddd\")\n",
    "fp.close()"
   ]
  },
  {
   "cell_type": "code",
   "execution_count": null,
   "metadata": {},
   "outputs": [],
   "source": [
    "#1번\n",
    "filename = input(\"파일 이름을 입력하세요:\")\n",
    "fp = open(filename, \"r\")\n",
    "line = fp.read()\n",
    "print(\"파일 안에는 총 %d 개의 글자가 있습니다.\"%len(line))"
   ]
  },
  {
   "cell_type": "code",
   "execution_count": 1,
   "metadata": {
    "scrolled": true
   },
   "outputs": [
    {
     "name": "stdout",
     "output_type": "stream",
     "text": [
      "파일 이름을 입력하세요:TT.txt\n",
      "삭제할 문자열을 입력하시오:helloworld\n",
      "변경된 파일이 저장되었습니다.\n"
     ]
    }
   ],
   "source": [
    "#2번\n",
    "filename = input(\"파일 이름을 입력하세요:\")\n",
    "delete = input(\"삭제할 문자열을 입력하시오:\")\n",
    "\n",
    "fp = open(filename, \"r\")\n",
    "lines = fp.readlines()\n",
    "modified = []\n",
    "for i in range(len(lines)):\n",
    "    a = lines[i]\n",
    "    while a.find(delete) != -1:\n",
    "        a = a[:a.find(delete)] + \"\" + a[a.find(delete) + len(delete):]\n",
    "    modified.append(a)\n",
    "fp.close()\n",
    "\n",
    "fp1 = open(filename, \"w\")\n",
    "for i in range(len(modified)):\n",
    "    fp1.write(modified[i])\n",
    "print(\"변경된 파일이 저장되었습니다.\")\n",
    "fp1.close()"
   ]
  },
  {
   "cell_type": "code",
   "execution_count": 16,
   "metadata": {},
   "outputs": [
    {
     "name": "stdout",
     "output_type": "stream",
     "text": [
      "37\n",
      "Pythonisthebessddddddsdtchodsdice\n"
     ]
    }
   ],
   "source": [
    "a = \"Python is the bessddddddsdt chodsdice\"\n",
    "delete = \"\"\n",
    "print(len(a))\n",
    "\n",
    "while a.find(delete) != -1:\n",
    "    a = a[:a.find(delete)] + \"\" + a[a.find(delete) + len(delete) :]\n",
    "print(a)"
   ]
  },
  {
   "cell_type": "code",
   "execution_count": 10,
   "metadata": {},
   "outputs": [
    {
     "name": "stdout",
     "output_type": "stream",
     "text": [
      "입력 파일 이름: C:\\\\Users\\\\djgjd\\\\OneDrive\\\\강의 3-1\\\\통신공학\\파이썬 및 깃 사용법(1,2,3주차)\\\\HumptyDumpty.txt\n",
      "{'H': 3, 'u': 7, 'm': 6, 'p': 6, 't': 13, 'y': 5, 'D': 2, 's': 5, 'a': 11, 'o': 4, 'n': 7, 'w': 1, 'l': 9, 'h': 5, 'd': 3, 'g': 5, 'r': 3, 'e': 7, 'f': 1, 'A': 1, 'k': 2, 'i': 3, 'C': 1}\n"
     ]
    }
   ],
   "source": [
    "#3번\n",
    "filename = input(\"입력 파일 이름: \") #파일위치: C:\\\\Users\\\\djgjd\\\\OneDrive\\\\강의 3-1\\\\통신공학\\파이썬 및 깃 사용법(1,2,3주차)\\\\HumptyDumpty.txt\n",
    "fp = open(filename, \"r\")\n",
    "alpa = dict()\n",
    "\n",
    "for line in fp:\n",
    "    for ch in line:\n",
    "        if (ch.isupper()):\n",
    "            if(ch in alpa):\n",
    "                alpa[ch] += 1\n",
    "            else:\n",
    "                alpa[ch] = 1\n",
    "        elif (ch.islower()):\n",
    "            if (ch in alpa):\n",
    "                alpa[ch] += 1\n",
    "            else:\n",
    "                alpa[ch] = 1\n",
    "print(alpa)\n",
    "fp.close()\n",
    "    "
   ]
  },
  {
   "cell_type": "code",
   "execution_count": 12,
   "metadata": {},
   "outputs": [],
   "source": [
    "#4번-1\n",
    "import pickle\n",
    "problem = [12, 3.14, [1, 2, 3, 4, 5]]\n",
    "file = open(\"test.dat\", \"wb\")\n",
    "pickle.dump(problem, file)\n",
    "file.close()"
   ]
  },
  {
   "cell_type": "code",
   "execution_count": 13,
   "metadata": {},
   "outputs": [
    {
     "name": "stdout",
     "output_type": "stream",
     "text": [
      "[12, 3.14, [1, 2, 3, 4, 5]]\n"
     ]
    }
   ],
   "source": [
    "#4번-2\n",
    "import pickle\n",
    "file = open(\"test.dat\", \"rb\")\n",
    "obj = pickle.load(file)\n",
    "print(obj)"
   ]
  },
  {
   "cell_type": "code",
   "execution_count": 11,
   "metadata": {},
   "outputs": [
    {
     "name": "stdout",
     "output_type": "stream",
     "text": [
      "입력 파일 이름: C:\\\\Users\\\\djgjd\\\\OneDrive\\\\강의 3-1\\\\통신공학\\파이썬 및 깃 사용법(1,2,3주차)\\\\numbers.txt\n",
      "출력 파일 이름: practice.txt\n"
     ]
    }
   ],
   "source": [
    "#5번\n",
    "infilename = input(\"입력 파일 이름: \") #파일 위치: C:\\\\Users\\\\djgjd\\\\OneDrive\\\\강의 3-1\\\\통신공학\\파이썬 및 깃 사용법(1,2,3주차)\\\\numbers.txt\n",
    "infile = open(infilename, \"r\")\n",
    "outfilename = input(\"출력 파일 이름: \") #파일 위치: practice.txt\n",
    "outfile = open(outfilename, \"w\")\n",
    "\n",
    "line = infile.readlines()\n",
    "Total = 0\n",
    "Average = 0\n",
    "C = 0\n",
    "\n",
    "for i in line:\n",
    "    Total += float(i)\n",
    "    C += 1\n",
    "Average = Total / C\n",
    "\n",
    "outfile.write(\"합계 = %.2f\\n\"%Total)\n",
    "outfile.write(\"평균 = %.2f\\n\"%Average)\n",
    "\n",
    "infile.close()\n",
    "outfile.close()"
   ]
  },
  {
   "cell_type": "code",
   "execution_count": 9,
   "metadata": {},
   "outputs": [
    {
     "name": "stdout",
     "output_type": "stream",
     "text": [
      "21\n"
     ]
    }
   ],
   "source": [
    "a = \"Python is the best choice\"\n",
    "delete = \"es\"\n",
    "print(a.find('oic'))"
   ]
  },
  {
   "cell_type": "code",
   "execution_count": null,
   "metadata": {},
   "outputs": [],
   "source": []
  }
 ],
 "metadata": {
  "kernelspec": {
   "display_name": "Python 3",
   "language": "python",
   "name": "python3"
  },
  "language_info": {
   "codemirror_mode": {
    "name": "ipython",
    "version": 3
   },
   "file_extension": ".py",
   "mimetype": "text/x-python",
   "name": "python",
   "nbconvert_exporter": "python",
   "pygments_lexer": "ipython3",
   "version": "3.7.6"
  }
 },
 "nbformat": 4,
 "nbformat_minor": 4
}
