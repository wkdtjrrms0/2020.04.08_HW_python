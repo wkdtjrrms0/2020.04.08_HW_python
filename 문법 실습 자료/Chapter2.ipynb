{
 "cells": [
  {
   "cell_type": "code",
   "execution_count": 6,
   "metadata": {},
   "outputs": [
    {
     "name": "stdout",
     "output_type": "stream",
     "text": [
      "첫 번째 정수를 입력하시오.50\n",
      "두 번째 정수를 입력하시오.25\n",
      "75\n",
      "25\n",
      "1250\n",
      "2\n"
     ]
    }
   ],
   "source": [
    "#도전9\n",
    "X = int(input(\"첫 번째 정수를 입력하시오.\"))\n",
    "Y = int(input(\"두 번째 정수를 입력하시오.\"))\n",
    "\n",
    "print(X+Y)\n",
    "print(X-Y)\n",
    "print(X*Y)\n",
    "print(X/Y)"
   ]
  },
  {
   "cell_type": "code",
   "execution_count": 9,
   "metadata": {},
   "outputs": [
    {
     "name": "stdout",
     "output_type": "stream",
     "text": [
      "이름을 입력하시오: 장석근\n",
      "장석근 씨, 안녕하세요? \n",
      "파이썬에 오신 것을 환영합니다.\n",
      "첫 번째 정수를 입력하시오: 55\n",
      "두 번째 정수를 입력하시오: 2\n",
      "55 과 2 의 합은 57 입니다.\n"
     ]
    }
   ],
   "source": [
    "#도전10\n",
    "name = input(\"이름을 입력하시오: \")\n",
    "print(name, \"씨, 안녕하세요? \\n파이썬에 오신 것을 환영합니다.\")\n",
    "X = int(input(\"첫 번째 정수를 입력하시오: \"))\n",
    "Y = int(input(\"두 번째 정수를 입력하시오: \"))\n",
    "print(X, \"과\", Y, \"의 합은\", X + Y, \"입니다.\")"
   ]
  },
  {
   "cell_type": "code",
   "execution_count": 13,
   "metadata": {},
   "outputs": [
    {
     "name": "stdout",
     "output_type": "stream",
     "text": [
      "이름을 입력하시오:장석근\n",
      "나이를 입력하시오:24\n",
      "장석근씨는 2096년에 100살이시네요!\n"
     ]
    }
   ],
   "source": [
    "#1번\n",
    "import datetime\n",
    "name = input(\"이름을 입력하시오:\")\n",
    "age = int(input(\"나이를 입력하시오:\"))\n",
    "age100 = (100 - age) + int(datetime.datetime.now().year)\n",
    "print(\"%s씨는 %d년에 100살이시네요!\"%(name, age100))"
   ]
  },
  {
   "cell_type": "code",
   "execution_count": 17,
   "metadata": {},
   "outputs": [
    {
     "name": "stdout",
     "output_type": "stream",
     "text": [
      "첫 번째 숫자를 입력하시오:10\n",
      "두 번째 숫자를 입력하시오:20\n",
      "세 번째 숫자를 입력하시오:30\n",
      "10 20 30의 평균은 20.0 입니다.\n"
     ]
    }
   ],
   "source": [
    "#2번\n",
    "X = int(input(\"첫 번째 숫자를 입력하시오:\"))\n",
    "Y = int(input(\"두 번째 숫자를 입력하시오:\"))\n",
    "Z = int(input(\"세 번째 숫자를 입력하시오:\"))\n",
    "avg = (X + Y + Z) / 3\n",
    "print(\"%d %d %d의 평균은 %.1f 입니다.\" %(X, Y, Z, avg))"
   ]
  },
  {
   "cell_type": "code",
   "execution_count": 21,
   "metadata": {},
   "outputs": [
    {
     "name": "stdout",
     "output_type": "stream",
     "text": [
      "반지름을 입력하시오: 10\n",
      "반지름이 10인 원의 넓이 = 314.1593\n"
     ]
    }
   ],
   "source": [
    "#3번\n",
    "import math\n",
    "r = int(input(\"반지름을 입력하시오: \"))\n",
    "PI = math.pi\n",
    "S = PI * r**2\n",
    "print(\"반지름이 %d인 원의 넓이 = %.4f\" %(r, S))"
   ]
  }
 ],
 "metadata": {
  "kernelspec": {
   "display_name": "Python 3",
   "language": "python",
   "name": "python3"
  },
  "language_info": {
   "codemirror_mode": {
    "name": "ipython",
    "version": 3
   },
   "file_extension": ".py",
   "mimetype": "text/x-python",
   "name": "python",
   "nbconvert_exporter": "python",
   "pygments_lexer": "ipython3",
   "version": "3.7.6"
  }
 },
 "nbformat": 4,
 "nbformat_minor": 4
}
