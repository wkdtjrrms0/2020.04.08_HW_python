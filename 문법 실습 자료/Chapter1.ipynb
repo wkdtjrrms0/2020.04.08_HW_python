{
 "cells": [
  {
   "cell_type": "code",
   "execution_count": 2,
   "metadata": {},
   "outputs": [
    {
     "name": "stdout",
     "output_type": "stream",
     "text": [
      "환영합니다.\n",
      "파이썬의 세계에 오신 것을 환영합니다.\n",
      "파이썬은 강력합니다.\n"
     ]
    }
   ],
   "source": [
    "#1번\n",
    "print(\"환영합니다.\\n파이썬의 세계에 오신 것을 환영합니다.\\n파이썬은 강력합니다.\")"
   ]
  },
  {
   "cell_type": "code",
   "execution_count": 6,
   "metadata": {},
   "outputs": [
    {
     "name": "stdout",
     "output_type": "stream",
     "text": [
      "반갑습니다. 파이썬!\n",
      "0.6\n",
      "Hello world !!!\n"
     ]
    }
   ],
   "source": [
    "#2번\n",
    "print(\"반갑습니다. 파이썬!\")\n",
    "print(2*3/10)\n",
    "print(\"Hello\", \"world\", \"!!!\")"
   ]
  },
  {
   "cell_type": "code",
   "execution_count": 7,
   "metadata": {},
   "outputs": [
    {
     "name": "stdout",
     "output_type": "stream",
     "text": [
      "168\n"
     ]
    }
   ],
   "source": [
    "#3번\n",
    "print(7*24)"
   ]
  }
 ],
 "metadata": {
  "kernelspec": {
   "display_name": "Python 3",
   "language": "python",
   "name": "python3"
  },
  "language_info": {
   "codemirror_mode": {
    "name": "ipython",
    "version": 3
   },
   "file_extension": ".py",
   "mimetype": "text/x-python",
   "name": "python",
   "nbconvert_exporter": "python",
   "pygments_lexer": "ipython3",
   "version": "3.7.6"
  }
 },
 "nbformat": 4,
 "nbformat_minor": 4
}
